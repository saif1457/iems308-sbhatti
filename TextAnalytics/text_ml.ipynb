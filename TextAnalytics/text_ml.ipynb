{
 "cells": [
  {
   "cell_type": "markdown",
   "metadata": {},
   "source": [
    "## Machine Learning Pipeline\n",
    "1. Load data\n",
    "    1. Use train/test split\n",
    "2. Use Feature engineering algorithm (vectorising with TF-IDF)\n",
    "3. Run a Logistic Regression\n",
    "    1. Extract classification_report\n",
    "    2. Tune model to meet expectations for accuracy, precision, recall\n",
    "    3. Extract correctly classified results\n",
    "4. Run NLP on correctly classified results\n",
    "5. Extract `ORGANISATIONS` (companies) and `PERSON` (CEOs) and save to file.\n",
    "6. Crack a corona."
   ]
  },
  {
   "cell_type": "code",
   "execution_count": 1,
   "metadata": {},
   "outputs": [],
   "source": [
    "import pandas as pd\n",
    "ceo_df = pd.read_csv('ceo_df.csv')\n",
    "company_df = pd.read_csv('company_df.csv')"
   ]
  },
  {
   "cell_type": "markdown",
   "metadata": {},
   "source": [
    "### Extracting Companies"
   ]
  },
  {
   "cell_type": "code",
   "execution_count": 2,
   "metadata": {},
   "outputs": [],
   "source": [
    "from sklearn.model_selection import train_test_split\n",
    "\n",
    "X_comp = company_df.drop('company_label',axis=1)\n",
    "y_comp = company_df.company_label\n",
    "\n",
    "Xcomp_train, Xcomp_test, ycomp_train, ycomp_test = train_test_split(X_comp, y_comp, test_size=0.4, random_state=1)"
   ]
  },
  {
   "cell_type": "markdown",
   "metadata": {},
   "source": [
    "### Vectorise with TF-IDF\n",
    "\n",
    "Given the poor performance with selected/computed features, instead I will use TF-IDF to algorithmically create 10,000 new features. God bless computational increases."
   ]
  },
  {
   "cell_type": "code",
   "execution_count": 3,
   "metadata": {},
   "outputs": [],
   "source": [
    "from sklearn.feature_extraction.text import TfidfVectorizer\n",
    "from scipy.sparse import hstack\n",
    "from sklearn.linear_model import LogisticRegression\n",
    "from sklearn.metrics import classification_report"
   ]
  },
  {
   "cell_type": "code",
   "execution_count": 4,
   "metadata": {},
   "outputs": [
    {
     "name": "stdout",
     "output_type": "stream",
     "text": [
      "CPU times: user 45.5 s, sys: 1.85 s, total: 47.3 s\n",
      "Wall time: 54 s\n"
     ]
    }
   ],
   "source": [
    "%%time\n",
    "tfidf_company = TfidfVectorizer(ngram_range=(1,3),stop_words='english',\n",
    "                           max_features=10000).fit(Xcomp_train.text_organisations)"
   ]
  },
  {
   "cell_type": "code",
   "execution_count": 5,
   "metadata": {},
   "outputs": [
    {
     "name": "stdout",
     "output_type": "stream",
     "text": [
      "CPU times: user 23.4 s, sys: 284 ms, total: 23.7 s\n",
      "Wall time: 24.1 s\n"
     ]
    }
   ],
   "source": [
    "%%time\n",
    "company_text_train = tfidf_company.transform(Xcomp_train.text_organisations)\n",
    "company_text_test = tfidf_company.transform(Xcomp_test.text_organisations)"
   ]
  },
  {
   "cell_type": "code",
   "execution_count": 6,
   "metadata": {},
   "outputs": [
    {
     "name": "stdout",
     "output_type": "stream",
     "text": [
      "CPU times: user 175 ms, sys: 65.9 ms, total: 241 ms\n",
      "Wall time: 241 ms\n"
     ]
    }
   ],
   "source": [
    "%%time\n",
    "Xcomp_train = hstack([Xcomp_train.drop(\"text_organisations\", axis=1), company_text_train])\n",
    "Xcomp_test = hstack([Xcomp_test.drop(\"text_organisations\",axis=1), company_text_test])"
   ]
  },
  {
   "cell_type": "code",
   "execution_count": 7,
   "metadata": {},
   "outputs": [
    {
     "data": {
      "text/plain": [
       "(403045, 10003)"
      ]
     },
     "execution_count": 7,
     "metadata": {},
     "output_type": "execute_result"
    }
   ],
   "source": [
    "Xcomp_train.shape"
   ]
  },
  {
   "cell_type": "code",
   "execution_count": 8,
   "metadata": {},
   "outputs": [
    {
     "data": {
      "text/plain": [
       "(268698, 10003)"
      ]
     },
     "execution_count": 8,
     "metadata": {},
     "output_type": "execute_result"
    }
   ],
   "source": [
    "Xcomp_test.shape"
   ]
  },
  {
   "cell_type": "code",
   "execution_count": 9,
   "metadata": {},
   "outputs": [
    {
     "name": "stderr",
     "output_type": "stream",
     "text": [
      "[Parallel(n_jobs=1)]: Using backend SequentialBackend with 1 concurrent workers.\n"
     ]
    },
    {
     "name": "stdout",
     "output_type": "stream",
     "text": [
      "CPU times: user 8min 17s, sys: 1min 59s, total: 10min 16s\n",
      "Wall time: 1min 32s\n"
     ]
    },
    {
     "name": "stderr",
     "output_type": "stream",
     "text": [
      "[Parallel(n_jobs=1)]: Done   1 out of   1 | elapsed:  1.5min finished\n"
     ]
    }
   ],
   "source": [
    "%%time\n",
    "lr_org = LogisticRegression(verbose=1,max_iter=5000, class_weight='balanced')\n",
    "lr_org.fit(Xcomp_train, ycomp_train)"
   ]
  },
  {
   "cell_type": "code",
   "execution_count": 10,
   "metadata": {},
   "outputs": [
    {
     "name": "stdout",
     "output_type": "stream",
     "text": [
      "              precision    recall  f1-score   support\n",
      "\n",
      "           0       0.97      0.96      0.97    323598\n",
      "           1       0.84      0.90      0.87     79447\n",
      "\n",
      "    accuracy                           0.95    403045\n",
      "   macro avg       0.91      0.93      0.92    403045\n",
      "weighted avg       0.95      0.95      0.95    403045\n",
      "\n"
     ]
    }
   ],
   "source": [
    "ycomp_train_pred = lr_org.predict(Xcomp_train)\n",
    "print(classification_report(ycomp_train, ycomp_train_pred))"
   ]
  },
  {
   "cell_type": "code",
   "execution_count": 11,
   "metadata": {},
   "outputs": [
    {
     "name": "stdout",
     "output_type": "stream",
     "text": [
      "              precision    recall  f1-score   support\n",
      "\n",
      "           0       0.97      0.96      0.96    215769\n",
      "           1       0.83      0.89      0.86     52929\n",
      "\n",
      "    accuracy                           0.94    268698\n",
      "   macro avg       0.90      0.92      0.91    268698\n",
      "weighted avg       0.94      0.94      0.94    268698\n",
      "\n"
     ]
    }
   ],
   "source": [
    "ycomp_test_pred = lr_org.predict(Xcomp_test)\n",
    "print(classification_report(ycomp_test, ycomp_test_pred))"
   ]
  },
  {
   "cell_type": "code",
   "execution_count": 12,
   "metadata": {},
   "outputs": [
    {
     "name": "stdout",
     "output_type": "stream",
     "text": [
      "ycomp_test_pred len is 268698\n",
      "ycomp_test_pred len is 403045\n"
     ]
    }
   ],
   "source": [
    "print('ycomp_test_pred len is {}'.format(len(ycomp_test_pred)))\n",
    "print('ycomp_test_pred len is {}'.format(len(ycomp_train_pred)))"
   ]
  },
  {
   "cell_type": "code",
   "execution_count": 13,
   "metadata": {},
   "outputs": [],
   "source": [
    "classifiedtrain_companies = ycomp_train[(ycomp_train == ycomp_train_pred) & (ycomp_train == 1)]\n",
    "classifiedtest_companies = ycomp_test[(ycomp_test == ycomp_test_pred) & (ycomp_test == 1)]"
   ]
  },
  {
   "cell_type": "code",
   "execution_count": 14,
   "metadata": {},
   "outputs": [],
   "source": [
    "try_one = pd.concat([classifiedtrain_companies, classifiedtest_companies], ignore_index=True)"
   ]
  },
  {
   "cell_type": "code",
   "execution_count": 15,
   "metadata": {},
   "outputs": [],
   "source": [
    "companies_returned = pd.merge(company_df, try_one, left_index=True, right_index=True)"
   ]
  },
  {
   "cell_type": "code",
   "execution_count": 16,
   "metadata": {},
   "outputs": [
    {
     "data": {
      "text/html": [
       "<div>\n",
       "<style scoped>\n",
       "    .dataframe tbody tr th:only-of-type {\n",
       "        vertical-align: middle;\n",
       "    }\n",
       "\n",
       "    .dataframe tbody tr th {\n",
       "        vertical-align: top;\n",
       "    }\n",
       "\n",
       "    .dataframe thead th {\n",
       "        text-align: right;\n",
       "    }\n",
       "</style>\n",
       "<table border=\"1\" class=\"dataframe\">\n",
       "  <thead>\n",
       "    <tr style=\"text-align: right;\">\n",
       "      <th></th>\n",
       "      <th>text_organisations</th>\n",
       "      <th>num_words</th>\n",
       "      <th>num_capitals</th>\n",
       "      <th>company_nearby</th>\n",
       "      <th>company_label_x</th>\n",
       "      <th>company_label_y</th>\n",
       "    </tr>\n",
       "  </thead>\n",
       "  <tbody>\n",
       "    <tr>\n",
       "      <th>0</th>\n",
       "      <td>Earlier today we had a strong South Korean PMI...</td>\n",
       "      <td>10</td>\n",
       "      <td>6</td>\n",
       "      <td>0</td>\n",
       "      <td>0</td>\n",
       "      <td>1</td>\n",
       "    </tr>\n",
       "    <tr>\n",
       "      <th>1</th>\n",
       "      <td>The latest?</td>\n",
       "      <td>2</td>\n",
       "      <td>1</td>\n",
       "      <td>0</td>\n",
       "      <td>0</td>\n",
       "      <td>1</td>\n",
       "    </tr>\n",
       "    <tr>\n",
       "      <th>2</th>\n",
       "      <td>It just saw a rise in December PMI from 47.4 t...</td>\n",
       "      <td>12</td>\n",
       "      <td>5</td>\n",
       "      <td>0</td>\n",
       "      <td>0</td>\n",
       "      <td>1</td>\n",
       "    </tr>\n",
       "    <tr>\n",
       "      <th>3</th>\n",
       "      <td>From the report:  With the House prepared to v...</td>\n",
       "      <td>40</td>\n",
       "      <td>19</td>\n",
       "      <td>1</td>\n",
       "      <td>0</td>\n",
       "      <td>1</td>\n",
       "    </tr>\n",
       "    <tr>\n",
       "      <th>4</th>\n",
       "      <td>Here's the banner leading Drudge Report right ...</td>\n",
       "      <td>16</td>\n",
       "      <td>6</td>\n",
       "      <td>0</td>\n",
       "      <td>0</td>\n",
       "      <td>1</td>\n",
       "    </tr>\n",
       "  </tbody>\n",
       "</table>\n",
       "</div>"
      ],
      "text/plain": [
       "                                  text_organisations  num_words  num_capitals  \\\n",
       "0  Earlier today we had a strong South Korean PMI...         10             6   \n",
       "1                                        The latest?          2             1   \n",
       "2  It just saw a rise in December PMI from 47.4 t...         12             5   \n",
       "3  From the report:  With the House prepared to v...         40            19   \n",
       "4  Here's the banner leading Drudge Report right ...         16             6   \n",
       "\n",
       "   company_nearby  company_label_x  company_label_y  \n",
       "0               0                0                1  \n",
       "1               0                0                1  \n",
       "2               0                0                1  \n",
       "3               1                0                1  \n",
       "4               0                0                1  "
      ]
     },
     "execution_count": 16,
     "metadata": {},
     "output_type": "execute_result"
    }
   ],
   "source": [
    "companies_returned.head()"
   ]
  },
  {
   "cell_type": "code",
   "execution_count": 17,
   "metadata": {},
   "outputs": [
    {
     "data": {
      "text/plain": [
       "118025"
      ]
     },
     "execution_count": 17,
     "metadata": {},
     "output_type": "execute_result"
    }
   ],
   "source": [
    "i = companies_returned['text_organisations']\n",
    "len(i)"
   ]
  },
  {
   "cell_type": "code",
   "execution_count": 18,
   "metadata": {},
   "outputs": [],
   "source": [
    "def matching_engine_3000(values,match):\n",
    "    '''\n",
    "    values is the nlp processed docs\n",
    "    match is the entity type to match e.g. PERSON\n",
    "    '''\n",
    "    engine_results = [ent.text for ent in values.ents if ent.label_ == match]\n",
    "    return engine_results"
   ]
  },
  {
   "cell_type": "code",
   "execution_count": 19,
   "metadata": {},
   "outputs": [
    {
     "name": "stderr",
     "output_type": "stream",
     "text": [
      "100%|██████████| 118025/118025 [08:28<00:00, 232.11it/s]\n"
     ]
    }
   ],
   "source": [
    "from tqdm import tqdm\n",
    "import spacy\n",
    "\n",
    "nlp = spacy.load(\"en_core_web_sm\", disable=['tagger','parser'])\n",
    "nlp.add_pipe(nlp.create_pipe('sentencizer'))\n",
    "\n",
    "iq=[]\n",
    "for s in tqdm(i[0:118025]):\n",
    "    iq.append(nlp(s))"
   ]
  },
  {
   "cell_type": "code",
   "execution_count": 20,
   "metadata": {},
   "outputs": [
    {
     "name": "stderr",
     "output_type": "stream",
     "text": [
      "100%|██████████| 118025/118025 [00:00<00:00, 134218.32it/s]"
     ]
    },
    {
     "name": "stdout",
     "output_type": "stream",
     "text": [
      "CPU times: user 834 ms, sys: 227 ms, total: 1.06 s\n",
      "Wall time: 882 ms\n"
     ]
    },
    {
     "name": "stderr",
     "output_type": "stream",
     "text": [
      "\n"
     ]
    }
   ],
   "source": [
    "%%time\n",
    "final_companies=[]\n",
    "\n",
    "for i in tqdm(iq):\n",
    "    final_companies.extend(matching_engine_3000(i,\"ORG\"))"
   ]
  },
  {
   "cell_type": "code",
   "execution_count": 21,
   "metadata": {},
   "outputs": [
    {
     "name": "stdout",
     "output_type": "stream",
     "text": [
      "55737\n",
      "16544\n"
     ]
    }
   ],
   "source": [
    "print(len(final_companies))\n",
    "print(len(set(final_companies)))\n",
    "\n",
    "final_companies = list(set(final_companies))"
   ]
  },
  {
   "cell_type": "code",
   "execution_count": 22,
   "metadata": {},
   "outputs": [],
   "source": [
    "final_companies_list = pd.DataFrame(final_companies)\n",
    "final_companies_list.to_csv('final_companies_list.csv',index=False)"
   ]
  },
  {
   "cell_type": "code",
   "execution_count": 23,
   "metadata": {},
   "outputs": [
    {
     "data": {
      "text/html": [
       "<div>\n",
       "<style scoped>\n",
       "    .dataframe tbody tr th:only-of-type {\n",
       "        vertical-align: middle;\n",
       "    }\n",
       "\n",
       "    .dataframe tbody tr th {\n",
       "        vertical-align: top;\n",
       "    }\n",
       "\n",
       "    .dataframe thead th {\n",
       "        text-align: right;\n",
       "    }\n",
       "</style>\n",
       "<table border=\"1\" class=\"dataframe\">\n",
       "  <thead>\n",
       "    <tr style=\"text-align: right;\">\n",
       "      <th></th>\n",
       "      <th>text_persons</th>\n",
       "      <th>num_capitals</th>\n",
       "      <th>num_words</th>\n",
       "      <th>ceo_label</th>\n",
       "    </tr>\n",
       "  </thead>\n",
       "  <tbody>\n",
       "    <tr>\n",
       "      <th>0</th>\n",
       "      <td>From the report:  With the House prepared to v...</td>\n",
       "      <td>19</td>\n",
       "      <td>40</td>\n",
       "      <td>1</td>\n",
       "    </tr>\n",
       "    <tr>\n",
       "      <th>1</th>\n",
       "      <td>Here's the banner leading Drudge Report right ...</td>\n",
       "      <td>6</td>\n",
       "      <td>16</td>\n",
       "      <td>0</td>\n",
       "    </tr>\n",
       "    <tr>\n",
       "      <th>2</th>\n",
       "      <td>South Korea -- whose heavy reliance on global ...</td>\n",
       "      <td>5</td>\n",
       "      <td>29</td>\n",
       "      <td>0</td>\n",
       "    </tr>\n",
       "    <tr>\n",
       "      <th>3</th>\n",
       "      <td>From the report: The HSBC South Korea Purchasi...</td>\n",
       "      <td>17</td>\n",
       "      <td>31</td>\n",
       "      <td>0</td>\n",
       "    </tr>\n",
       "    <tr>\n",
       "      <th>4</th>\n",
       "      <td>Markit UPDATE: As the Fiscal Cliff bill gets c...</td>\n",
       "      <td>11</td>\n",
       "      <td>31</td>\n",
       "      <td>0</td>\n",
       "    </tr>\n",
       "  </tbody>\n",
       "</table>\n",
       "</div>"
      ],
      "text/plain": [
       "                                        text_persons  num_capitals  num_words  \\\n",
       "0  From the report:  With the House prepared to v...            19         40   \n",
       "1  Here's the banner leading Drudge Report right ...             6         16   \n",
       "2  South Korea -- whose heavy reliance on global ...             5         29   \n",
       "3  From the report: The HSBC South Korea Purchasi...            17         31   \n",
       "4  Markit UPDATE: As the Fiscal Cliff bill gets c...            11         31   \n",
       "\n",
       "   ceo_label  \n",
       "0          1  \n",
       "1          0  \n",
       "2          0  \n",
       "3          0  \n",
       "4          0  "
      ]
     },
     "execution_count": 23,
     "metadata": {},
     "output_type": "execute_result"
    }
   ],
   "source": [
    "ceo_df.head()"
   ]
  },
  {
   "cell_type": "markdown",
   "metadata": {},
   "source": [
    "### Extracting CEOs"
   ]
  },
  {
   "cell_type": "code",
   "execution_count": 24,
   "metadata": {},
   "outputs": [],
   "source": [
    "from sklearn.model_selection import train_test_split\n",
    "X = ceo_df.drop('ceo_label',axis=1)\n",
    "y = ceo_df.ceo_label\n",
    "\n",
    "Xceo_train, Xceo_test, yceo_train, yceo_test = train_test_split(X, y, test_size=0.4, random_state=1)"
   ]
  },
  {
   "cell_type": "code",
   "execution_count": 25,
   "metadata": {},
   "outputs": [
    {
     "name": "stdout",
     "output_type": "stream",
     "text": [
      "CPU times: user 23.5 s, sys: 895 ms, total: 24.4 s\n",
      "Wall time: 24.7 s\n"
     ]
    }
   ],
   "source": [
    "%%time\n",
    "tfidf_ceo = TfidfVectorizer(ngram_range=(1,3),stop_words='english',\n",
    "                           max_features=10000).fit(Xceo_train.text_persons)"
   ]
  },
  {
   "cell_type": "code",
   "execution_count": 26,
   "metadata": {},
   "outputs": [
    {
     "name": "stdout",
     "output_type": "stream",
     "text": [
      "CPU times: user 12.2 s, sys: 101 ms, total: 12.3 s\n",
      "Wall time: 12.3 s\n"
     ]
    }
   ],
   "source": [
    "%%time\n",
    "ceo_text_train = tfidf_ceo.transform(Xceo_train.text_persons)\n",
    "ceo_text_test = tfidf_ceo.transform(Xceo_test.text_persons)"
   ]
  },
  {
   "cell_type": "code",
   "execution_count": 27,
   "metadata": {},
   "outputs": [
    {
     "name": "stdout",
     "output_type": "stream",
     "text": [
      "CPU times: user 88.1 ms, sys: 42.6 ms, total: 131 ms\n",
      "Wall time: 129 ms\n"
     ]
    }
   ],
   "source": [
    "%%time\n",
    "Xceo_train = hstack([Xceo_train.drop(\"text_persons\", axis=1), ceo_text_train])\n",
    "Xceo_test = hstack([Xceo_test.drop(\"text_persons\",axis=1), ceo_text_test])"
   ]
  },
  {
   "cell_type": "code",
   "execution_count": 28,
   "metadata": {},
   "outputs": [
    {
     "data": {
      "text/plain": [
       "(209720, 10002)"
      ]
     },
     "execution_count": 28,
     "metadata": {},
     "output_type": "execute_result"
    }
   ],
   "source": [
    "Xceo_train.shape"
   ]
  },
  {
   "cell_type": "code",
   "execution_count": 29,
   "metadata": {},
   "outputs": [
    {
     "data": {
      "text/plain": [
       "(139814, 10002)"
      ]
     },
     "execution_count": 29,
     "metadata": {},
     "output_type": "execute_result"
    }
   ],
   "source": [
    "Xceo_test.shape"
   ]
  },
  {
   "cell_type": "code",
   "execution_count": 30,
   "metadata": {},
   "outputs": [
    {
     "name": "stderr",
     "output_type": "stream",
     "text": [
      "[Parallel(n_jobs=1)]: Using backend SequentialBackend with 1 concurrent workers.\n"
     ]
    },
    {
     "name": "stdout",
     "output_type": "stream",
     "text": [
      "CPU times: user 3min 19s, sys: 33.2 s, total: 3min 52s\n",
      "Wall time: 33.6 s\n"
     ]
    },
    {
     "name": "stderr",
     "output_type": "stream",
     "text": [
      "[Parallel(n_jobs=1)]: Done   1 out of   1 | elapsed:   33.5s finished\n"
     ]
    }
   ],
   "source": [
    "%%time\n",
    "lr_ceo = LogisticRegression(verbose=1,max_iter=5000, class_weight='balanced')\n",
    "lr_ceo.fit(Xceo_train, yceo_train)"
   ]
  },
  {
   "cell_type": "code",
   "execution_count": 31,
   "metadata": {},
   "outputs": [
    {
     "name": "stdout",
     "output_type": "stream",
     "text": [
      "              precision    recall  f1-score   support\n",
      "\n",
      "           0       0.99      0.95      0.97    192915\n",
      "           1       0.62      0.91      0.74     16805\n",
      "\n",
      "    accuracy                           0.95    209720\n",
      "   macro avg       0.81      0.93      0.86    209720\n",
      "weighted avg       0.96      0.95      0.95    209720\n",
      "\n"
     ]
    }
   ],
   "source": [
    "yceo_train_pred = lr_ceo.predict(Xceo_train)\n",
    "print(classification_report(yceo_train, yceo_train_pred))"
   ]
  },
  {
   "cell_type": "code",
   "execution_count": 32,
   "metadata": {},
   "outputs": [
    {
     "name": "stdout",
     "output_type": "stream",
     "text": [
      "              precision    recall  f1-score   support\n",
      "\n",
      "           0       0.99      0.95      0.97    128774\n",
      "           1       0.59      0.86      0.70     11040\n",
      "\n",
      "    accuracy                           0.94    139814\n",
      "   macro avg       0.79      0.90      0.83    139814\n",
      "weighted avg       0.96      0.94      0.95    139814\n",
      "\n"
     ]
    }
   ],
   "source": [
    "yceo_test_pred = lr_ceo.predict(Xceo_test)\n",
    "print(classification_report(yceo_test, yceo_test_pred))"
   ]
  },
  {
   "cell_type": "code",
   "execution_count": 33,
   "metadata": {},
   "outputs": [
    {
     "name": "stdout",
     "output_type": "stream",
     "text": [
      "ycomp_test_pred len is 139814\n",
      "ycomp_test_pred len is 209720\n"
     ]
    }
   ],
   "source": [
    "print('ycomp_test_pred len is {}'.format(len(yceo_test_pred)))\n",
    "print('ycomp_test_pred len is {}'.format(len(yceo_train_pred)))"
   ]
  },
  {
   "cell_type": "code",
   "execution_count": 34,
   "metadata": {},
   "outputs": [],
   "source": [
    "classifiedtrain_ceo = yceo_train[(yceo_train == yceo_train_pred) & (yceo_train == 1)]\n",
    "classifiedtest_ceo = yceo_test[(yceo_test == yceo_test_pred) & (yceo_test == 1)]"
   ]
  },
  {
   "cell_type": "code",
   "execution_count": 35,
   "metadata": {},
   "outputs": [],
   "source": [
    "try_two = pd.concat([classifiedtrain_ceo, classifiedtest_ceo], ignore_index=True)"
   ]
  },
  {
   "cell_type": "code",
   "execution_count": 36,
   "metadata": {},
   "outputs": [],
   "source": [
    "ceos_returned = pd.merge(ceo_df, try_two, left_index=True, right_index=True)"
   ]
  },
  {
   "cell_type": "code",
   "execution_count": 37,
   "metadata": {},
   "outputs": [
    {
     "data": {
      "text/html": [
       "<div>\n",
       "<style scoped>\n",
       "    .dataframe tbody tr th:only-of-type {\n",
       "        vertical-align: middle;\n",
       "    }\n",
       "\n",
       "    .dataframe tbody tr th {\n",
       "        vertical-align: top;\n",
       "    }\n",
       "\n",
       "    .dataframe thead th {\n",
       "        text-align: right;\n",
       "    }\n",
       "</style>\n",
       "<table border=\"1\" class=\"dataframe\">\n",
       "  <thead>\n",
       "    <tr style=\"text-align: right;\">\n",
       "      <th></th>\n",
       "      <th>text_persons</th>\n",
       "      <th>num_capitals</th>\n",
       "      <th>num_words</th>\n",
       "      <th>ceo_label_x</th>\n",
       "      <th>ceo_label_y</th>\n",
       "    </tr>\n",
       "  </thead>\n",
       "  <tbody>\n",
       "    <tr>\n",
       "      <th>0</th>\n",
       "      <td>From the report:  With the House prepared to v...</td>\n",
       "      <td>19</td>\n",
       "      <td>40</td>\n",
       "      <td>1</td>\n",
       "      <td>1</td>\n",
       "    </tr>\n",
       "    <tr>\n",
       "      <th>1</th>\n",
       "      <td>Here's the banner leading Drudge Report right ...</td>\n",
       "      <td>6</td>\n",
       "      <td>16</td>\n",
       "      <td>0</td>\n",
       "      <td>1</td>\n",
       "    </tr>\n",
       "    <tr>\n",
       "      <th>2</th>\n",
       "      <td>South Korea -- whose heavy reliance on global ...</td>\n",
       "      <td>5</td>\n",
       "      <td>29</td>\n",
       "      <td>0</td>\n",
       "      <td>1</td>\n",
       "    </tr>\n",
       "    <tr>\n",
       "      <th>3</th>\n",
       "      <td>From the report: The HSBC South Korea Purchasi...</td>\n",
       "      <td>17</td>\n",
       "      <td>31</td>\n",
       "      <td>0</td>\n",
       "      <td>1</td>\n",
       "    </tr>\n",
       "    <tr>\n",
       "      <th>4</th>\n",
       "      <td>Markit UPDATE: As the Fiscal Cliff bill gets c...</td>\n",
       "      <td>11</td>\n",
       "      <td>31</td>\n",
       "      <td>0</td>\n",
       "      <td>1</td>\n",
       "    </tr>\n",
       "  </tbody>\n",
       "</table>\n",
       "</div>"
      ],
      "text/plain": [
       "                                        text_persons  num_capitals  num_words  \\\n",
       "0  From the report:  With the House prepared to v...            19         40   \n",
       "1  Here's the banner leading Drudge Report right ...             6         16   \n",
       "2  South Korea -- whose heavy reliance on global ...             5         29   \n",
       "3  From the report: The HSBC South Korea Purchasi...            17         31   \n",
       "4  Markit UPDATE: As the Fiscal Cliff bill gets c...            11         31   \n",
       "\n",
       "   ceo_label_x  ceo_label_y  \n",
       "0            1            1  \n",
       "1            0            1  \n",
       "2            0            1  \n",
       "3            0            1  \n",
       "4            0            1  "
      ]
     },
     "execution_count": 37,
     "metadata": {},
     "output_type": "execute_result"
    }
   ],
   "source": [
    "ceos_returned.head()"
   ]
  },
  {
   "cell_type": "code",
   "execution_count": 38,
   "metadata": {},
   "outputs": [
    {
     "data": {
      "text/plain": [
       "24769"
      ]
     },
     "execution_count": 38,
     "metadata": {},
     "output_type": "execute_result"
    }
   ],
   "source": [
    "i = ceos_returned['text_persons']\n",
    "len(i)"
   ]
  },
  {
   "cell_type": "code",
   "execution_count": 39,
   "metadata": {},
   "outputs": [
    {
     "name": "stderr",
     "output_type": "stream",
     "text": [
      "100%|██████████| 24769/24769 [01:50<00:00, 224.47it/s]\n"
     ]
    }
   ],
   "source": [
    "iq=[]\n",
    "for s in tqdm(i[0:24769]):\n",
    "    iq.append(nlp(s))"
   ]
  },
  {
   "cell_type": "code",
   "execution_count": 40,
   "metadata": {},
   "outputs": [
    {
     "name": "stderr",
     "output_type": "stream",
     "text": [
      "100%|██████████| 24769/24769 [00:00<00:00, 146454.56it/s]\n"
     ]
    }
   ],
   "source": [
    "final_ceos=[]\n",
    "\n",
    "for i in tqdm(iq):\n",
    "    final_ceos.extend(matching_engine_3000(i,\"PERSON\"))"
   ]
  },
  {
   "cell_type": "code",
   "execution_count": 41,
   "metadata": {},
   "outputs": [
    {
     "name": "stdout",
     "output_type": "stream",
     "text": [
      "13608\n",
      "5919\n"
     ]
    }
   ],
   "source": [
    "print(len(final_ceos))\n",
    "print(len(set(final_ceos)))\n",
    "\n",
    "final_ceos = list(set(final_ceos))"
   ]
  },
  {
   "cell_type": "code",
   "execution_count": 42,
   "metadata": {},
   "outputs": [],
   "source": [
    "final_ceos_list = pd.DataFrame(final_ceos)\n",
    "final_ceos_list.to_csv('final_ceos_list.csv',index=False)"
   ]
  },
  {
   "cell_type": "code",
   "execution_count": 43,
   "metadata": {},
   "outputs": [
    {
     "data": {
      "text/html": [
       "<div>\n",
       "<style scoped>\n",
       "    .dataframe tbody tr th:only-of-type {\n",
       "        vertical-align: middle;\n",
       "    }\n",
       "\n",
       "    .dataframe tbody tr th {\n",
       "        vertical-align: top;\n",
       "    }\n",
       "\n",
       "    .dataframe thead th {\n",
       "        text-align: right;\n",
       "    }\n",
       "</style>\n",
       "<table border=\"1\" class=\"dataframe\">\n",
       "  <thead>\n",
       "    <tr style=\"text-align: right;\">\n",
       "      <th></th>\n",
       "      <th>0</th>\n",
       "    </tr>\n",
       "  </thead>\n",
       "  <tbody>\n",
       "    <tr>\n",
       "      <th>0</th>\n",
       "      <td>Mike Derchin</td>\n",
       "    </tr>\n",
       "    <tr>\n",
       "      <th>1</th>\n",
       "      <td>Charlie Devereuz</td>\n",
       "    </tr>\n",
       "    <tr>\n",
       "      <th>2</th>\n",
       "      <td>Davos Citi</td>\n",
       "    </tr>\n",
       "    <tr>\n",
       "      <th>3</th>\n",
       "      <td>Mohamed Morsy</td>\n",
       "    </tr>\n",
       "    <tr>\n",
       "      <th>4</th>\n",
       "      <td>Stephen Bird</td>\n",
       "    </tr>\n",
       "    <tr>\n",
       "      <th>...</th>\n",
       "      <td>...</td>\n",
       "    </tr>\n",
       "    <tr>\n",
       "      <th>5914</th>\n",
       "      <td>Matt Tucker</td>\n",
       "    </tr>\n",
       "    <tr>\n",
       "      <th>5915</th>\n",
       "      <td>Li Keqiang</td>\n",
       "    </tr>\n",
       "    <tr>\n",
       "      <th>5916</th>\n",
       "      <td>JimBianco</td>\n",
       "    </tr>\n",
       "    <tr>\n",
       "      <th>5917</th>\n",
       "      <td>Wynn</td>\n",
       "    </tr>\n",
       "    <tr>\n",
       "      <th>5918</th>\n",
       "      <td>G-BDXH's</td>\n",
       "    </tr>\n",
       "  </tbody>\n",
       "</table>\n",
       "<p>5919 rows × 1 columns</p>\n",
       "</div>"
      ],
      "text/plain": [
       "                     0\n",
       "0         Mike Derchin\n",
       "1     Charlie Devereuz\n",
       "2           Davos Citi\n",
       "3        Mohamed Morsy\n",
       "4         Stephen Bird\n",
       "...                ...\n",
       "5914       Matt Tucker\n",
       "5915        Li Keqiang\n",
       "5916         JimBianco\n",
       "5917              Wynn\n",
       "5918          G-BDXH's\n",
       "\n",
       "[5919 rows x 1 columns]"
      ]
     },
     "execution_count": 43,
     "metadata": {},
     "output_type": "execute_result"
    }
   ],
   "source": [
    "final_ceos_list"
   ]
  },
  {
   "cell_type": "code",
   "execution_count": null,
   "metadata": {},
   "outputs": [],
   "source": []
  }
 ],
 "metadata": {
  "kernelspec": {
   "display_name": "Python 3",
   "language": "python",
   "name": "python3"
  },
  "language_info": {
   "codemirror_mode": {
    "name": "ipython",
    "version": 3
   },
   "file_extension": ".py",
   "mimetype": "text/x-python",
   "name": "python",
   "nbconvert_exporter": "python",
   "pygments_lexer": "ipython3",
   "version": "3.6.3"
  }
 },
 "nbformat": 4,
 "nbformat_minor": 2
}
